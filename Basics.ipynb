{
 "cells": [
  {
   "cell_type": "markdown",
   "metadata": {},
   "source": [
    "# Exploring Gun Deaths In The USA (2011 - 2014)"
   ]
  },
  {
   "cell_type": "code",
   "execution_count": 2,
   "metadata": {
    "collapsed": false
   },
   "outputs": [
    {
     "name": "stdout",
     "output_type": "stream",
     "text": [
      "[['', 'year', 'month', 'intent', 'police', 'sex', 'age', 'race', 'hispanic', 'place', 'education'], ['1', '2012', '01', 'Suicide', '0', 'M', '34', 'Asian/Pacific Islander', '100', 'Home', '4'], ['2', '2012', '01', 'Suicide', '0', 'F', '21', 'White', '100', 'Street', '3'], ['3', '2012', '01', 'Suicide', '0', 'M', '60', 'White', '100', 'Other specified', '4'], ['4', '2012', '02', 'Suicide', '0', 'M', '64', 'White', '100', 'Home', '4']]\n"
     ]
    }
   ],
   "source": [
    "import csv\n",
    "f = open(\"guns.csv\", \"r\")\n",
    "csvreader = csv.reader(f)\n",
    "data = list(csvreader)\n",
    "print(data[:5])"
   ]
  },
  {
   "cell_type": "code",
   "execution_count": 3,
   "metadata": {
    "collapsed": false
   },
   "outputs": [
    {
     "name": "stdout",
     "output_type": "stream",
     "text": [
      "['', 'year', 'month', 'intent', 'police', 'sex', 'age', 'race', 'hispanic', 'place', 'education']\n"
     ]
    }
   ],
   "source": [
    "headers = data[0]\n",
    "data = data[1:]\n",
    "print(headers)"
   ]
  },
  {
   "cell_type": "code",
   "execution_count": 4,
   "metadata": {
    "collapsed": false
   },
   "outputs": [
    {
     "name": "stdout",
     "output_type": "stream",
     "text": [
      "[['1', '2012', '01', 'Suicide', '0', 'M', '34', 'Asian/Pacific Islander', '100', 'Home', '4'], ['2', '2012', '01', 'Suicide', '0', 'F', '21', 'White', '100', 'Street', '3'], ['3', '2012', '01', 'Suicide', '0', 'M', '60', 'White', '100', 'Other specified', '4'], ['4', '2012', '02', 'Suicide', '0', 'M', '64', 'White', '100', 'Home', '4'], ['5', '2012', '02', 'Suicide', '0', 'M', '31', 'White', '100', 'Other specified', '2']]\n"
     ]
    }
   ],
   "source": [
    "print(data[:5])"
   ]
  },
  {
   "cell_type": "code",
   "execution_count": 18,
   "metadata": {
    "collapsed": false
   },
   "outputs": [
    {
     "name": "stdout",
     "output_type": "stream",
     "text": [
      "{'2012': 33563, '2013': 33636, '2014': 33599}\n"
     ]
    }
   ],
   "source": [
    "years = [row[1] for row in data]\n",
    "year_counts = {}\n",
    "for year in years:\n",
    "    if year in year_counts:\n",
    "        year_counts[year] = year_counts[year] + 1\n",
    "    else:\n",
    "        year_counts[year] = 1\n",
    "print(year_counts)\n",
    "    "
   ]
  },
  {
   "cell_type": "code",
   "execution_count": 34,
   "metadata": {
    "collapsed": false
   },
   "outputs": [
    {
     "name": "stdout",
     "output_type": "stream",
     "text": [
      "[datetime.datetime(2012, 1, 1, 0, 0), datetime.datetime(2012, 1, 1, 0, 0), datetime.datetime(2012, 1, 1, 0, 0), datetime.datetime(2012, 2, 1, 0, 0), datetime.datetime(2012, 2, 1, 0, 0)]\n"
     ]
    }
   ],
   "source": [
    "import datetime\n",
    "dates = [datetime.datetime(year=int(row[1]), month=int(row[2]), day=1) for row in data]\n",
    "print(dates[:5])"
   ]
  },
  {
   "cell_type": "code",
   "execution_count": 36,
   "metadata": {
    "collapsed": false
   },
   "outputs": [
    {
     "name": "stdout",
     "output_type": "stream",
     "text": [
      "{datetime.datetime(2012, 6, 1, 0, 0): 2826, datetime.datetime(2013, 7, 1, 0, 0): 3079, datetime.datetime(2012, 5, 1, 0, 0): 2999, datetime.datetime(2012, 12, 1, 0, 0): 2791, datetime.datetime(2012, 8, 1, 0, 0): 2954, datetime.datetime(2014, 11, 1, 0, 0): 2756, datetime.datetime(2014, 9, 1, 0, 0): 2914, datetime.datetime(2012, 11, 1, 0, 0): 2729, datetime.datetime(2012, 9, 1, 0, 0): 2852, datetime.datetime(2012, 7, 1, 0, 0): 3026, datetime.datetime(2013, 8, 1, 0, 0): 2859, datetime.datetime(2014, 2, 1, 0, 0): 2361, datetime.datetime(2013, 5, 1, 0, 0): 2806, datetime.datetime(2012, 2, 1, 0, 0): 2357, datetime.datetime(2012, 1, 1, 0, 0): 2758, datetime.datetime(2013, 12, 1, 0, 0): 2765, datetime.datetime(2013, 6, 1, 0, 0): 2920, datetime.datetime(2013, 2, 1, 0, 0): 2375, datetime.datetime(2014, 4, 1, 0, 0): 2862, datetime.datetime(2012, 10, 1, 0, 0): 2733, datetime.datetime(2013, 11, 1, 0, 0): 2758, datetime.datetime(2014, 1, 1, 0, 0): 2651, datetime.datetime(2013, 10, 1, 0, 0): 2808, datetime.datetime(2013, 1, 1, 0, 0): 2864, datetime.datetime(2014, 8, 1, 0, 0): 2970, datetime.datetime(2012, 4, 1, 0, 0): 2795, datetime.datetime(2013, 4, 1, 0, 0): 2798, datetime.datetime(2014, 5, 1, 0, 0): 2864, datetime.datetime(2012, 3, 1, 0, 0): 2743, datetime.datetime(2013, 9, 1, 0, 0): 2742, datetime.datetime(2014, 12, 1, 0, 0): 2857, datetime.datetime(2014, 7, 1, 0, 0): 2884, datetime.datetime(2014, 3, 1, 0, 0): 2684, datetime.datetime(2014, 6, 1, 0, 0): 2931, datetime.datetime(2014, 10, 1, 0, 0): 2865, datetime.datetime(2013, 3, 1, 0, 0): 2862}\n"
     ]
    }
   ],
   "source": [
    "date_counts = {}\n",
    "for uniq in dates:\n",
    "    if uniq in date_counts:\n",
    "        date_counts[uniq] = date_counts[uniq] + 1\n",
    "    else:\n",
    "        date_counts[uniq] = 1\n",
    "print(date_counts)"
   ]
  },
  {
   "cell_type": "markdown",
   "metadata": {},
   "source": [
    "Looking into the sex and gender columns to see if some correlation exists: (work below)"
   ]
  },
  {
   "cell_type": "code",
   "execution_count": 40,
   "metadata": {
    "collapsed": false
   },
   "outputs": [],
   "source": [
    "sex_counts = {} #dictionary to hold gender\n",
    "\n",
    "for row in data:\n",
    "    gender = row[5]\n",
    "    if gender in sex_counts:\n",
    "        sex_counts[gender] = sex_counts[gender] + 1\n",
    "    else:\n",
    "        sex_counts[gender] = 1\n",
    "        \n",
    "race_counts = {} #dictionary to hold race\n",
    "\n",
    "for row in data:\n",
    "    race = row[7]\n",
    "    if race in race_counts:\n",
    "        race_counts[race] = race_counts[race] + 1\n",
    "    else:\n",
    "        race_counts[race] = 1"
   ]
  },
  {
   "cell_type": "code",
   "execution_count": 41,
   "metadata": {
    "collapsed": false,
    "scrolled": true
   },
   "outputs": [
    {
     "name": "stdout",
     "output_type": "stream",
     "text": [
      "{'M': 86349, 'F': 14449}\n"
     ]
    }
   ],
   "source": [
    "print(sex_counts)"
   ]
  },
  {
   "cell_type": "code",
   "execution_count": 42,
   "metadata": {
    "collapsed": false
   },
   "outputs": [
    {
     "name": "stdout",
     "output_type": "stream",
     "text": [
      "{'Hispanic': 9022, 'Black': 23296, 'Asian/Pacific Islander': 1326, 'White': 66237, 'Native American/Native Alaskan': 917}\n"
     ]
    }
   ],
   "source": [
    "print(race_counts)"
   ]
  },
  {
   "cell_type": "markdown",
   "metadata": {},
   "source": [
    "## What The Data Shows:"
   ]
  },
  {
   "cell_type": "markdown",
   "metadata": {},
   "source": [
    "Judging from the data there is a clear connection between gun deaths and Males. The number of male deaths from guns is 6 times that of Women. \n",
    "\n",
    "Another notable statistic is that deaths among Whites is much higher than other races. Blacks are second with over 23,000 cases. Still, deaths by gun for Whites is nearly 3 times that of Blacks. Asian/Pacific Islanders seem to have a very low gun death rate. "
   ]
  },
  {
   "cell_type": "code",
   "execution_count": 43,
   "metadata": {
    "collapsed": false
   },
   "outputs": [
    {
     "name": "stdout",
     "output_type": "stream",
     "text": [
      "[['Id', 'Year', 'Id', 'Sex', 'Id', 'Hispanic Origin', 'Id', 'Id2', 'Geography', 'Total', 'Race Alone - White', 'Race Alone - Hispanic', 'Race Alone - Black or African American', 'Race Alone - American Indian and Alaska Native', 'Race Alone - Asian', 'Race Alone - Native Hawaiian and Other Pacific Islander', 'Two or More Races'], ['cen42010', 'April 1, 2010 Census', 'totsex', 'Both Sexes', 'tothisp', 'Total', '0100000US', '', 'United States', '308745538', '197318956', '44618105', '40250635', '3739506', '15159516', '674625', '6984195']]\n"
     ]
    }
   ],
   "source": [
    "cf = open(\"census.csv\", \"r\")\n",
    "census_reader = csv.reader(cf)\n",
    "census = list(census_reader)\n",
    "print(census)"
   ]
  },
  {
   "cell_type": "code",
   "execution_count": 44,
   "metadata": {
    "collapsed": false
   },
   "outputs": [
    {
     "name": "stdout",
     "output_type": "stream",
     "text": [
      "{'Native American/Native Alaskan': 24.521955573811088, 'Hispanic': 20.220491210910907, 'Asian/Pacific Islander': 8.374309664161762, 'Black': 57.8773477735196, 'White': 33.56849303419181}\n"
     ]
    }
   ],
   "source": [
    "mapping = {\"Asian/Pacific Islander\": 15159516 + 674625, \n",
    "          \"Black\": 40250635, \n",
    "          \"Native American/Native Alaskan\": 3739506, \n",
    "          \"Hispanic\": 44618105 , \n",
    "          \"White\": 197318956 }\n",
    "\n",
    "race_per_hundredk = {}\n",
    "\n",
    "for k, v in race_counts.items():\n",
    "     race_per_hundredk[k] = (v / mapping[k]) * 100000\n",
    "\n",
    "print(race_per_hundredk)\n",
    "    \n"
   ]
  },
  {
   "cell_type": "code",
   "execution_count": 67,
   "metadata": {
    "collapsed": false
   },
   "outputs": [
    {
     "name": "stdout",
     "output_type": "stream",
     "text": [
      "{'Native American/Native Alaskan': 8.717729026240365, 'Hispanic': 12.627161104219914, 'Asian/Pacific Islander': 3.530346230970155, 'Black': 48.471284987180944, 'White': 4.6356417981453335}\n"
     ]
    }
   ],
   "source": [
    "intents = [row[3] for row in data]\n",
    "races = [row[7] for row in data]\n",
    "\n",
    "homicide_race_counts = {}\n",
    "\n",
    "for i, race in enumerate(races):\n",
    "    if race not in homicide_race_counts:\n",
    "        homicide_race_counts[race] = 0\n",
    "    if intents[i] == \"Homicide\":\n",
    "        homicide_race_counts[race] += 1\n",
    "    \n",
    "race_per_hundredk = {}\n",
    "for k, v in homicide_race_counts.items():\n",
    "    race_per_hundredk[k] = (v / mapping[k]) * 100000\n",
    "    \n",
    "print(race_per_hundredk)"
   ]
  },
  {
   "cell_type": "markdown",
   "metadata": {},
   "source": [
    "## Findings:\n",
    "\n",
    "Based on the numbers, the homicide rate of Blacks is considerably higher than every other race except Hispanics. Even then, the number of homicide related deaths is staggering. \n",
    "\n",
    "I would like to see the numbers for years 2014 - 2018 when the data becomes available to see if there has been any decrease/increase in these numbers.\n",
    "\n",
    "I would also like to look into the suicide numbers in general, outside of gun related deaths."
   ]
  },
  {
   "cell_type": "code",
   "execution_count": null,
   "metadata": {
    "collapsed": true
   },
   "outputs": [],
   "source": []
  }
 ],
 "metadata": {
  "kernelspec": {
   "display_name": "Python 3",
   "language": "python",
   "name": "python3"
  },
  "language_info": {
   "codemirror_mode": {
    "name": "ipython",
    "version": 3
   },
   "file_extension": ".py",
   "mimetype": "text/x-python",
   "name": "python",
   "nbconvert_exporter": "python",
   "pygments_lexer": "ipython3",
   "version": "3.4.3"
  }
 },
 "nbformat": 4,
 "nbformat_minor": 0
}
